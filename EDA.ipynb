{
 "cells": [
  {
   "cell_type": "code",
   "execution_count": 1,
   "metadata": {
    "ExecuteTime": {
     "end_time": "2021-09-05T05:48:35.988239Z",
     "start_time": "2021-09-05T05:48:34.067565Z"
    }
   },
   "outputs": [],
   "source": [
    "import pandas as pd\n",
    "import numpy as np\n",
    "import seaborn as sns\n",
    "import matplotlib.pyplot as plt\n",
    "from datetime import date\n",
    "import datetime\n",
    "from scipy import stats\n",
    "import warnings\n",
    "warnings.filterwarnings('ignore')\n",
    "%matplotlib inline"
   ]
  },
  {
   "cell_type": "markdown",
   "metadata": {},
   "source": [
    "# Read data"
   ]
  },
  {
   "cell_type": "code",
   "execution_count": 10,
   "metadata": {
    "ExecuteTime": {
     "end_time": "2021-09-05T06:04:23.679233Z",
     "start_time": "2021-09-05T06:04:23.671760Z"
    }
   },
   "outputs": [],
   "source": [
    "# set global args\n",
    "is_sample=False\n",
    "\n",
    "def read_data(file_name, rename_col=None, sample_sz=10000):\n",
    "    df = pd.read_csv('data/origin/{0}'.format(file_name), keep_default_na=True)\n",
    "    if not rename_col:\n",
    "        df.columns = ['user_id', 'merchant_id', 'coupon_id', 'discount_rate', \n",
    "                      'distance', 'date_received', 'date_used']\n",
    "    else:\n",
    "        df.columns = rename_col\n",
    "    if not is_sample:\n",
    "        pass\n",
    "    else:  # construct sample data\n",
    "        idx = list(df.sample(n=sample_sz, random_state=10).index)  # sample is for shuffling\n",
    "        df =  df.iloc[idx, :]\n",
    "    \n",
    "    print('length of df:', len(df))\n",
    "    return df"
   ]
  },
  {
   "cell_type": "code",
   "execution_count": 11,
   "metadata": {
    "ExecuteTime": {
     "end_time": "2021-09-05T06:04:25.473693Z",
     "start_time": "2021-09-05T06:04:24.312568Z"
    }
   },
   "outputs": [
    {
     "name": "stdout",
     "output_type": "stream",
     "text": [
      "length of df: 1754884\n"
     ]
    },
    {
     "data": {
      "text/html": [
       "<div>\n",
       "<style scoped>\n",
       "    .dataframe tbody tr th:only-of-type {\n",
       "        vertical-align: middle;\n",
       "    }\n",
       "\n",
       "    .dataframe tbody tr th {\n",
       "        vertical-align: top;\n",
       "    }\n",
       "\n",
       "    .dataframe thead th {\n",
       "        text-align: right;\n",
       "    }\n",
       "</style>\n",
       "<table border=\"1\" class=\"dataframe\">\n",
       "  <thead>\n",
       "    <tr style=\"text-align: right;\">\n",
       "      <th></th>\n",
       "      <th>user_id</th>\n",
       "      <th>merchant_id</th>\n",
       "      <th>coupon_id</th>\n",
       "      <th>discount_rate</th>\n",
       "      <th>distance</th>\n",
       "      <th>date_received</th>\n",
       "      <th>date_used</th>\n",
       "    </tr>\n",
       "  </thead>\n",
       "  <tbody>\n",
       "    <tr>\n",
       "      <th>0</th>\n",
       "      <td>1439408</td>\n",
       "      <td>2632</td>\n",
       "      <td>NaN</td>\n",
       "      <td>NaN</td>\n",
       "      <td>0.0</td>\n",
       "      <td>NaN</td>\n",
       "      <td>20160217.0</td>\n",
       "    </tr>\n",
       "    <tr>\n",
       "      <th>1</th>\n",
       "      <td>1439408</td>\n",
       "      <td>4663</td>\n",
       "      <td>11002.0</td>\n",
       "      <td>150:20</td>\n",
       "      <td>1.0</td>\n",
       "      <td>20160528.0</td>\n",
       "      <td>NaN</td>\n",
       "    </tr>\n",
       "    <tr>\n",
       "      <th>2</th>\n",
       "      <td>1439408</td>\n",
       "      <td>2632</td>\n",
       "      <td>8591.0</td>\n",
       "      <td>20:1</td>\n",
       "      <td>0.0</td>\n",
       "      <td>20160217.0</td>\n",
       "      <td>NaN</td>\n",
       "    </tr>\n",
       "    <tr>\n",
       "      <th>3</th>\n",
       "      <td>1439408</td>\n",
       "      <td>2632</td>\n",
       "      <td>1078.0</td>\n",
       "      <td>20:1</td>\n",
       "      <td>0.0</td>\n",
       "      <td>20160319.0</td>\n",
       "      <td>NaN</td>\n",
       "    </tr>\n",
       "    <tr>\n",
       "      <th>4</th>\n",
       "      <td>1439408</td>\n",
       "      <td>2632</td>\n",
       "      <td>8591.0</td>\n",
       "      <td>20:1</td>\n",
       "      <td>0.0</td>\n",
       "      <td>20160613.0</td>\n",
       "      <td>NaN</td>\n",
       "    </tr>\n",
       "  </tbody>\n",
       "</table>\n",
       "</div>"
      ],
      "text/plain": [
       "   user_id  merchant_id  coupon_id discount_rate  distance  date_received  \\\n",
       "0  1439408         2632        NaN           NaN       0.0            NaN   \n",
       "1  1439408         4663    11002.0        150:20       1.0     20160528.0   \n",
       "2  1439408         2632     8591.0          20:1       0.0     20160217.0   \n",
       "3  1439408         2632     1078.0          20:1       0.0     20160319.0   \n",
       "4  1439408         2632     8591.0          20:1       0.0     20160613.0   \n",
       "\n",
       "    date_used  \n",
       "0  20160217.0  \n",
       "1         NaN  \n",
       "2         NaN  \n",
       "3         NaN  \n",
       "4         NaN  "
      ]
     },
     "execution_count": 11,
     "metadata": {},
     "output_type": "execute_result"
    }
   ],
   "source": [
    "# offline training set\n",
    "df_off_train = read_data(file_name='ccf_offline_stage1_train.csv')\n",
    "df_off_train.head()"
   ]
  },
  {
   "cell_type": "code",
   "execution_count": 12,
   "metadata": {
    "ExecuteTime": {
     "end_time": "2021-09-05T06:04:34.630956Z",
     "start_time": "2021-09-05T06:04:27.507074Z"
    }
   },
   "outputs": [
    {
     "name": "stdout",
     "output_type": "stream",
     "text": [
      "length of df: 11429826\n"
     ]
    },
    {
     "data": {
      "text/html": [
       "<div>\n",
       "<style scoped>\n",
       "    .dataframe tbody tr th:only-of-type {\n",
       "        vertical-align: middle;\n",
       "    }\n",
       "\n",
       "    .dataframe tbody tr th {\n",
       "        vertical-align: top;\n",
       "    }\n",
       "\n",
       "    .dataframe thead th {\n",
       "        text-align: right;\n",
       "    }\n",
       "</style>\n",
       "<table border=\"1\" class=\"dataframe\">\n",
       "  <thead>\n",
       "    <tr style=\"text-align: right;\">\n",
       "      <th></th>\n",
       "      <th>user_id</th>\n",
       "      <th>merchant_id</th>\n",
       "      <th>coupon_id</th>\n",
       "      <th>discount_rate</th>\n",
       "      <th>distance</th>\n",
       "      <th>date_received</th>\n",
       "      <th>date_used</th>\n",
       "    </tr>\n",
       "  </thead>\n",
       "  <tbody>\n",
       "    <tr>\n",
       "      <th>0</th>\n",
       "      <td>13740231</td>\n",
       "      <td>18907</td>\n",
       "      <td>2</td>\n",
       "      <td>100017492</td>\n",
       "      <td>500:50</td>\n",
       "      <td>20160513.0</td>\n",
       "      <td>NaN</td>\n",
       "    </tr>\n",
       "    <tr>\n",
       "      <th>1</th>\n",
       "      <td>13740231</td>\n",
       "      <td>34805</td>\n",
       "      <td>1</td>\n",
       "      <td>NaN</td>\n",
       "      <td>NaN</td>\n",
       "      <td>NaN</td>\n",
       "      <td>20160321.0</td>\n",
       "    </tr>\n",
       "    <tr>\n",
       "      <th>2</th>\n",
       "      <td>14336199</td>\n",
       "      <td>18907</td>\n",
       "      <td>0</td>\n",
       "      <td>NaN</td>\n",
       "      <td>NaN</td>\n",
       "      <td>NaN</td>\n",
       "      <td>20160618.0</td>\n",
       "    </tr>\n",
       "    <tr>\n",
       "      <th>3</th>\n",
       "      <td>14336199</td>\n",
       "      <td>18907</td>\n",
       "      <td>0</td>\n",
       "      <td>NaN</td>\n",
       "      <td>NaN</td>\n",
       "      <td>NaN</td>\n",
       "      <td>20160618.0</td>\n",
       "    </tr>\n",
       "    <tr>\n",
       "      <th>4</th>\n",
       "      <td>14336199</td>\n",
       "      <td>18907</td>\n",
       "      <td>0</td>\n",
       "      <td>NaN</td>\n",
       "      <td>NaN</td>\n",
       "      <td>NaN</td>\n",
       "      <td>20160618.0</td>\n",
       "    </tr>\n",
       "  </tbody>\n",
       "</table>\n",
       "</div>"
      ],
      "text/plain": [
       "    user_id  merchant_id  coupon_id discount_rate distance  date_received  \\\n",
       "0  13740231        18907          2     100017492   500:50     20160513.0   \n",
       "1  13740231        34805          1           NaN      NaN            NaN   \n",
       "2  14336199        18907          0           NaN      NaN            NaN   \n",
       "3  14336199        18907          0           NaN      NaN            NaN   \n",
       "4  14336199        18907          0           NaN      NaN            NaN   \n",
       "\n",
       "    date_used  \n",
       "0         NaN  \n",
       "1  20160321.0  \n",
       "2  20160618.0  \n",
       "3  20160618.0  \n",
       "4  20160618.0  "
      ]
     },
     "execution_count": 12,
     "metadata": {},
     "output_type": "execute_result"
    }
   ],
   "source": [
    "# online training set\n",
    "df_on_train = read_data(file_name='ccf_online_stage1_train.csv')\n",
    "df_on_train.head()"
   ]
  },
  {
   "cell_type": "code",
   "execution_count": 13,
   "metadata": {
    "ExecuteTime": {
     "end_time": "2021-09-05T06:04:34.819278Z",
     "start_time": "2021-09-05T06:04:34.633696Z"
    }
   },
   "outputs": [
    {
     "name": "stdout",
     "output_type": "stream",
     "text": [
      "length of df: 113640\n"
     ]
    },
    {
     "data": {
      "text/html": [
       "<div>\n",
       "<style scoped>\n",
       "    .dataframe tbody tr th:only-of-type {\n",
       "        vertical-align: middle;\n",
       "    }\n",
       "\n",
       "    .dataframe tbody tr th {\n",
       "        vertical-align: top;\n",
       "    }\n",
       "\n",
       "    .dataframe thead th {\n",
       "        text-align: right;\n",
       "    }\n",
       "</style>\n",
       "<table border=\"1\" class=\"dataframe\">\n",
       "  <thead>\n",
       "    <tr style=\"text-align: right;\">\n",
       "      <th></th>\n",
       "      <th>user_id</th>\n",
       "      <th>merchant_id</th>\n",
       "      <th>coupon_id</th>\n",
       "      <th>discount_rate</th>\n",
       "      <th>distance</th>\n",
       "      <th>date_received</th>\n",
       "    </tr>\n",
       "  </thead>\n",
       "  <tbody>\n",
       "    <tr>\n",
       "      <th>0</th>\n",
       "      <td>4129537</td>\n",
       "      <td>450</td>\n",
       "      <td>9983</td>\n",
       "      <td>30:5</td>\n",
       "      <td>1.0</td>\n",
       "      <td>20160712</td>\n",
       "    </tr>\n",
       "    <tr>\n",
       "      <th>1</th>\n",
       "      <td>6949378</td>\n",
       "      <td>1300</td>\n",
       "      <td>3429</td>\n",
       "      <td>30:5</td>\n",
       "      <td>NaN</td>\n",
       "      <td>20160706</td>\n",
       "    </tr>\n",
       "    <tr>\n",
       "      <th>2</th>\n",
       "      <td>2166529</td>\n",
       "      <td>7113</td>\n",
       "      <td>6928</td>\n",
       "      <td>200:20</td>\n",
       "      <td>5.0</td>\n",
       "      <td>20160727</td>\n",
       "    </tr>\n",
       "    <tr>\n",
       "      <th>3</th>\n",
       "      <td>2166529</td>\n",
       "      <td>7113</td>\n",
       "      <td>1808</td>\n",
       "      <td>100:10</td>\n",
       "      <td>5.0</td>\n",
       "      <td>20160727</td>\n",
       "    </tr>\n",
       "    <tr>\n",
       "      <th>4</th>\n",
       "      <td>6172162</td>\n",
       "      <td>7605</td>\n",
       "      <td>6500</td>\n",
       "      <td>30:1</td>\n",
       "      <td>2.0</td>\n",
       "      <td>20160708</td>\n",
       "    </tr>\n",
       "  </tbody>\n",
       "</table>\n",
       "</div>"
      ],
      "text/plain": [
       "   user_id  merchant_id  coupon_id discount_rate  distance  date_received\n",
       "0  4129537          450       9983          30:5       1.0       20160712\n",
       "1  6949378         1300       3429          30:5       NaN       20160706\n",
       "2  2166529         7113       6928        200:20       5.0       20160727\n",
       "3  2166529         7113       1808        100:10       5.0       20160727\n",
       "4  6172162         7605       6500          30:1       2.0       20160708"
      ]
     },
     "execution_count": 13,
     "metadata": {},
     "output_type": "execute_result"
    }
   ],
   "source": [
    "# offline test set\n",
    "rename_col = ['user_id', 'merchant_id', 'coupon_id', 'discount_rate', \n",
    "              'distance', 'date_received']\n",
    "df_off_test = read_data(file_name='ccf_offline_stage1_test_revised.csv', rename_col=rename_col)\n",
    "df_off_test.head()\n"
   ]
  },
  {
   "cell_type": "markdown",
   "metadata": {},
   "source": [
    "# Exploration"
   ]
  },
  {
   "cell_type": "markdown",
   "metadata": {},
   "source": [
    "## Range of Dates"
   ]
  },
  {
   "cell_type": "code",
   "execution_count": 21,
   "metadata": {
    "ExecuteTime": {
     "end_time": "2021-08-28T09:53:53.952845Z",
     "start_time": "2021-08-28T09:53:53.946007Z"
    }
   },
   "outputs": [],
   "source": [
    "def range_of_col(df, col_name, df_name=None, feat_name=None):\n",
    "    \n",
    "    min_ = df[df[col_name]!='null'][col_name].min()\n",
    "    max_ = df[df[col_name]!='null'][col_name].max()\n",
    "    \n",
    "    if feat_name is None:\n",
    "        feat_name = col_name\n",
    "    if df_name is None:\n",
    "        df_name = ''\n",
    "    # max\n",
    "    print('The max of', feat_name, 'in', df_name , 'is:', max_)\n",
    "    # min\n",
    "    print('The min of', feat_name, 'in', df_name , 'is:', min_)\n",
    "    "
   ]
  },
  {
   "cell_type": "code",
   "execution_count": 23,
   "metadata": {
    "ExecuteTime": {
     "end_time": "2021-08-28T09:54:18.732691Z",
     "start_time": "2021-08-28T09:54:18.558467Z"
    }
   },
   "outputs": [
    {
     "name": "stdout",
     "output_type": "stream",
     "text": [
      "The max of date_received in offline trainset is: 20160615.0\n",
      "The min of date_received in offline trainset is: 20160101.0\n"
     ]
    }
   ],
   "source": [
    "# offline trainset\n",
    "range_of_col(df=df_off_train, df_name='offline trainset', col_name='date_received')"
   ]
  },
  {
   "cell_type": "code",
   "execution_count": 25,
   "metadata": {
    "ExecuteTime": {
     "end_time": "2021-08-28T10:24:05.949845Z",
     "start_time": "2021-08-28T10:24:03.131543Z"
    }
   },
   "outputs": [
    {
     "name": "stdout",
     "output_type": "stream",
     "text": [
      "The max of date_received in online trainset is: 20160615.0\n",
      "The min of date_received in online trainset is: 20160101.0\n"
     ]
    }
   ],
   "source": [
    "# online trainset\n",
    "range_of_col(df=df_on_train, df_name='online trainset', col_name='date_received')"
   ]
  },
  {
   "cell_type": "code",
   "execution_count": 24,
   "metadata": {
    "ExecuteTime": {
     "end_time": "2021-08-28T10:23:30.264533Z",
     "start_time": "2021-08-28T10:23:30.233183Z"
    }
   },
   "outputs": [
    {
     "name": "stdout",
     "output_type": "stream",
     "text": [
      "The max of date_received in offline testset is: 20160731\n",
      "The min of date_received in offline testset is: 20160701\n"
     ]
    }
   ],
   "source": [
    "# offline testset\n",
    "range_of_col(df=df_off_test, df_name='offline testset', col_name='date_received')"
   ]
  },
  {
   "cell_type": "markdown",
   "metadata": {},
   "source": [
    "## Overlap of IDs"
   ]
  },
  {
   "cell_type": "code",
   "execution_count": 30,
   "metadata": {
    "ExecuteTime": {
     "end_time": "2021-08-28T10:25:56.075469Z",
     "start_time": "2021-08-28T10:25:56.068244Z"
    }
   },
   "outputs": [],
   "source": [
    "def overlap_perc(feat_col, feat_name=None):\n",
    "\n",
    "    if feat_name is None:\n",
    "        feat_name = feat_col\n",
    "        \n",
    "    off_train = df_off_train[feat_col].copy().drop_duplicates()\n",
    "    on_train = df_on_train[feat_col].copy().drop_duplicates()\n",
    "    off_test = df_off_test[feat_col].copy().drop_duplicates()\n",
    "\n",
    "    # 1. offline train set and test set\n",
    "    diff_off_tr_te = set(off_train) - set(off_test)\n",
    "    overlap_perc = (len(off_train) - len(diff_off_tr_te)) / len(off_test)\n",
    "#     overlap_perc = round(overlap_perc, 4)\n",
    "    print('Overlapping perc btw offline trainset and testset of', feat_name, 'is:', overlap_perc)\n",
    "\n",
    "    # 2. online train set and test set\n",
    "    diff_on_tr_te = set(on_train) - set(off_test)\n",
    "    overlap_perc = (len(on_train) - len(diff_on_tr_te)) / len(off_test)\n",
    "#     overlap_perc = round(overlap_perc, 4)\n",
    "    print('Overlapping perc btw online trainset and testset of', feat_name, 'is:', overlap_perc)"
   ]
  },
  {
   "cell_type": "code",
   "execution_count": 31,
   "metadata": {
    "ExecuteTime": {
     "end_time": "2021-08-28T10:25:57.778725Z",
     "start_time": "2021-08-28T10:25:57.014166Z"
    }
   },
   "outputs": [
    {
     "name": "stdout",
     "output_type": "stream",
     "text": [
      "Overlapping perc btw offline trainset and testset of user is: 0.9999737907717308\n",
      "Overlapping perc btw online trainset and testset of user is: 0.5655296229802513\n"
     ]
    }
   ],
   "source": [
    "# users\n",
    "overlap_perc(feat_col='user_id', feat_name='user')"
   ]
  },
  {
   "cell_type": "code",
   "execution_count": 32,
   "metadata": {
    "ExecuteTime": {
     "end_time": "2021-08-28T10:25:58.682313Z",
     "start_time": "2021-08-28T10:25:58.422108Z"
    }
   },
   "outputs": [
    {
     "name": "stdout",
     "output_type": "stream",
     "text": [
      "Overlapping perc btw offline trainset and testset of merchant is: 0.9993585631815266\n",
      "Overlapping perc btw online trainset and testset of merchant is: 0.0\n"
     ]
    }
   ],
   "source": [
    "# merchant\n",
    "overlap_perc(feat_col='merchant_id', feat_name='merchant')"
   ]
  },
  {
   "cell_type": "code",
   "execution_count": 33,
   "metadata": {
    "ExecuteTime": {
     "end_time": "2021-08-28T10:25:59.474012Z",
     "start_time": "2021-08-28T10:25:59.267205Z"
    }
   },
   "outputs": [
    {
     "name": "stdout",
     "output_type": "stream",
     "text": [
      "Overlapping perc btw offline trainset and testset of coupon is: 0.5453658536585366\n",
      "Overlapping perc btw online trainset and testset of coupon is: 0.0\n"
     ]
    }
   ],
   "source": [
    "# coupon\n",
    "overlap_perc(feat_col='coupon_id', feat_name='coupon')"
   ]
  },
  {
   "cell_type": "markdown",
   "metadata": {},
   "source": [
    "## Stats"
   ]
  },
  {
   "cell_type": "code",
   "execution_count": 50,
   "metadata": {
    "ExecuteTime": {
     "end_time": "2021-08-28T11:12:24.930602Z",
     "start_time": "2021-08-28T11:12:24.920530Z"
    }
   },
   "outputs": [],
   "source": [
    "def val_dist(df, col_name, df_name='', feat_name=None):\n",
    "    plt.rcParams['figure.figsize'] = (20.5, 4.0)\n",
    "    \n",
    "    if feat_name is None:\n",
    "        feat_name = col_name\n",
    "    title = 'Value Distribution of {0} in {1}'.format(feat_name, df_name)\n",
    "    plt.title(title, fontsize=24)\n",
    "    # lable\n",
    "    plt.xlabel('Values', fontsize=14)\n",
    "    plt.ylabel('Count', fontsize=14)\n",
    "    # ticks\n",
    "    plt.tick_params(axis='both', labelsize=14)\n",
    "    plt.xticks(size='small', rotation=68, fontsize=10)\n",
    "    plt.plot(df[col_name].value_counts(), linewidth=2)\n",
    "    plt.show()"
   ]
  },
  {
   "cell_type": "code",
   "execution_count": 51,
   "metadata": {
    "ExecuteTime": {
     "end_time": "2021-08-28T11:12:26.214720Z",
     "start_time": "2021-08-28T11:12:25.568824Z"
    }
   },
   "outputs": [
    {
     "data": {
      "image/png": "[encoded data removed]",
      "text/plain": [
       "<Figure size 1476x288 with 1 Axes>"
      ]
     },
     "metadata": {
      "needs_background": "light"
     },
     "output_type": "display_data"
    }
   ],
   "source": [
    "val_dist(df=df_off_train, col_name='discount_rate', df_name='offline trainset', feat_name='discount_rate')"
   ]
  },
  {
   "cell_type": "code",
   "execution_count": 52,
   "metadata": {
    "ExecuteTime": {
     "end_time": "2021-08-28T11:12:28.140022Z",
     "start_time": "2021-08-28T11:12:27.617904Z"
    }
   },
   "outputs": [
    {
     "data": {
      "image/png": "[encoded data removed]",
      "text/plain": [
       "<Figure size 1476x288 with 1 Axes>"
      ]
     },
     "metadata": {
      "needs_background": "light"
     },
     "output_type": "display_data"
    }
   ],
   "source": [
    "val_dist(df=df_off_test, col_name='discount_rate', df_name='offline testset', feat_name='discount_rate')"
   ]
  },
  {
   "cell_type": "markdown",
   "metadata": {},
   "source": [
    "# Process Data\n",
    "> see data_preprocess.py"
   ]
  },
  {
   "cell_type": "code",
   "execution_count": 90,
   "metadata": {
    "ExecuteTime": {
     "end_time": "2021-08-28T12:46:49.236233Z",
     "start_time": "2021-08-28T12:46:49.230715Z"
    }
   },
   "outputs": [],
   "source": [
    "# format discount rate\n",
    "def get_discount_rate(s):\n",
    "    \n",
    "    s = str(s)\n",
    "    # case0. no discount\n",
    "    if s == 'null':\n",
    "        return -1\n",
    "    s = s.split(':')\n",
    "    # case1. this is discount rate like 0.95\n",
    "    if len(s) == 1:  \n",
    "        return float(s[0])\n",
    "    # case2. this is full reduction like 100:10(save 10 over 100)\n",
    "    else:  \n",
    "        return 1.0 - float(s[1]) / float(s[0])"
   ]
  },
  {
   "cell_type": "code",
   "execution_count": 93,
   "metadata": {
    "ExecuteTime": {
     "end_time": "2021-08-28T12:54:57.687880Z",
     "start_time": "2021-08-28T12:54:57.683850Z"
    }
   },
   "outputs": [],
   "source": [
    "# boolean for full reduction\n",
    "def is_full_reduction(s):\n",
    "    s = str(s)\n",
    "    s = s.split(':')\n",
    "    # case0. this is discount rate like 0.95\n",
    "    if len(s) == 1:  \n",
    "        return 0\n",
    "    # case1. this is full reduction like 100:10(save 10 over 100)\n",
    "    else:  \n",
    "        return 1"
   ]
  },
  {
   "cell_type": "code",
   "execution_count": 94,
   "metadata": {
    "ExecuteTime": {
     "end_time": "2021-08-28T12:54:58.351122Z",
     "start_time": "2021-08-28T12:54:58.346363Z"
    }
   },
   "outputs": [],
   "source": [
    "# condition of full reduction\n",
    "def get_full_reduction_cond(s):\n",
    "    s = str(s)\n",
    "    s = s.split(':')\n",
    "    # case0. this is discount rate like 0.95\n",
    "    if len(s) == 1:  \n",
    "        return -1\n",
    "    # case1. this is full reduction like 100:10(save 10 over 100)\n",
    "    else:  \n",
    "        return int(s[0])"
   ]
  },
  {
   "cell_type": "code",
   "execution_count": 95,
   "metadata": {
    "ExecuteTime": {
     "end_time": "2021-08-28T12:55:44.466160Z",
     "start_time": "2021-08-28T12:55:44.461396Z"
    }
   },
   "outputs": [],
   "source": [
    "# save of full reduction\n",
    "def get_full_reduction_save(s):\n",
    "    s = str(s)\n",
    "    s = s.split(':')\n",
    "    # case0. this is discount rate like 0.95\n",
    "    if len(s) == 1:  \n",
    "        return -1\n",
    "    # case1. this is full reduction like 100:10(save 10 over 100)\n",
    "    else:  \n",
    "        return int(s[1])"
   ]
  },
  {
   "cell_type": "markdown",
   "metadata": {},
   "source": [
    "# Analysis of New Data"
   ]
  },
  {
   "cell_type": "code",
   "execution_count": 4,
   "metadata": {
    "ExecuteTime": {
     "end_time": "2021-09-05T05:49:21.883512Z",
     "start_time": "2021-09-05T05:49:21.876124Z"
    }
   },
   "outputs": [],
   "source": [
    "def read_new_data(file_name, rename_col=None, sample_sz=10000):\n",
    "    \"\"\"\n",
    "    read local data file\n",
    "    :param file_name: string, format is like xxx.csv\n",
    "    :param rename_col: list\n",
    "    :param sample_sz: int, size of sample data, default is 10k\n",
    "    :return:\n",
    "    \"\"\"\n",
    "    df = pd.read_csv('{0}/{1}'.format(prep_data_dir, file_name), keep_default_na=True)\n",
    "    if not is_sample:\n",
    "        pass\n",
    "    else:  # construct sample data\n",
    "        idx = list(df.sample(n=sample_sz, random_state=10).index)  # sample is for shuffling\n",
    "        df = df.iloc[idx, :]\n",
    "\n",
    "    print('length of df:', len(df))\n",
    "    return df\n"
   ]
  },
  {
   "cell_type": "code",
   "execution_count": 5,
   "metadata": {
    "ExecuteTime": {
     "end_time": "2021-09-05T05:49:24.419561Z",
     "start_time": "2021-09-05T05:49:22.775521Z"
    }
   },
   "outputs": [
    {
     "name": "stdout",
     "output_type": "stream",
     "text": [
      "length of df: 1754884\n"
     ]
    },
    {
     "data": {
      "text/html": [
       "<div>\n",
       "<style scoped>\n",
       "    .dataframe tbody tr th:only-of-type {\n",
       "        vertical-align: middle;\n",
       "    }\n",
       "\n",
       "    .dataframe tbody tr th {\n",
       "        vertical-align: top;\n",
       "    }\n",
       "\n",
       "    .dataframe thead th {\n",
       "        text-align: right;\n",
       "    }\n",
       "</style>\n",
       "<table border=\"1\" class=\"dataframe\">\n",
       "  <thead>\n",
       "    <tr style=\"text-align: right;\">\n",
       "      <th></th>\n",
       "      <th>user_id</th>\n",
       "      <th>merchant_id</th>\n",
       "      <th>coupon_id</th>\n",
       "      <th>discount_rate</th>\n",
       "      <th>distance</th>\n",
       "      <th>date_received</th>\n",
       "      <th>date_used</th>\n",
       "      <th>is_full_reduction</th>\n",
       "      <th>full_cond</th>\n",
       "      <th>full_save</th>\n",
       "      <th>days_gap</th>\n",
       "      <th>label</th>\n",
       "    </tr>\n",
       "  </thead>\n",
       "  <tbody>\n",
       "    <tr>\n",
       "      <th>0</th>\n",
       "      <td>1439408</td>\n",
       "      <td>2632</td>\n",
       "      <td>NaN</td>\n",
       "      <td>NaN</td>\n",
       "      <td>0</td>\n",
       "      <td>NaN</td>\n",
       "      <td>20160217.0</td>\n",
       "      <td>0</td>\n",
       "      <td>-1</td>\n",
       "      <td>-1</td>\n",
       "      <td>-1</td>\n",
       "      <td>0</td>\n",
       "    </tr>\n",
       "    <tr>\n",
       "      <th>1</th>\n",
       "      <td>1439408</td>\n",
       "      <td>4663</td>\n",
       "      <td>11002.0</td>\n",
       "      <td>0.866667</td>\n",
       "      <td>1</td>\n",
       "      <td>20160528.0</td>\n",
       "      <td>NaN</td>\n",
       "      <td>1</td>\n",
       "      <td>150</td>\n",
       "      <td>20</td>\n",
       "      <td>-1</td>\n",
       "      <td>-1</td>\n",
       "    </tr>\n",
       "    <tr>\n",
       "      <th>2</th>\n",
       "      <td>1439408</td>\n",
       "      <td>2632</td>\n",
       "      <td>8591.0</td>\n",
       "      <td>0.950000</td>\n",
       "      <td>0</td>\n",
       "      <td>20160217.0</td>\n",
       "      <td>NaN</td>\n",
       "      <td>1</td>\n",
       "      <td>20</td>\n",
       "      <td>1</td>\n",
       "      <td>-1</td>\n",
       "      <td>-1</td>\n",
       "    </tr>\n",
       "    <tr>\n",
       "      <th>3</th>\n",
       "      <td>1439408</td>\n",
       "      <td>2632</td>\n",
       "      <td>1078.0</td>\n",
       "      <td>0.950000</td>\n",
       "      <td>0</td>\n",
       "      <td>20160319.0</td>\n",
       "      <td>NaN</td>\n",
       "      <td>1</td>\n",
       "      <td>20</td>\n",
       "      <td>1</td>\n",
       "      <td>-1</td>\n",
       "      <td>-1</td>\n",
       "    </tr>\n",
       "    <tr>\n",
       "      <th>4</th>\n",
       "      <td>1439408</td>\n",
       "      <td>2632</td>\n",
       "      <td>8591.0</td>\n",
       "      <td>0.950000</td>\n",
       "      <td>0</td>\n",
       "      <td>20160613.0</td>\n",
       "      <td>NaN</td>\n",
       "      <td>1</td>\n",
       "      <td>20</td>\n",
       "      <td>1</td>\n",
       "      <td>-1</td>\n",
       "      <td>-1</td>\n",
       "    </tr>\n",
       "  </tbody>\n",
       "</table>\n",
       "</div>"
      ],
      "text/plain": [
       "   user_id  merchant_id  coupon_id  discount_rate  distance  date_received  \\\n",
       "0  1439408         2632        NaN            NaN         0            NaN   \n",
       "1  1439408         4663    11002.0       0.866667         1     20160528.0   \n",
       "2  1439408         2632     8591.0       0.950000         0     20160217.0   \n",
       "3  1439408         2632     1078.0       0.950000         0     20160319.0   \n",
       "4  1439408         2632     8591.0       0.950000         0     20160613.0   \n",
       "\n",
       "    date_used  is_full_reduction  full_cond  full_save  days_gap  label  \n",
       "0  20160217.0                  0         -1         -1        -1      0  \n",
       "1         NaN                  1        150         20        -1     -1  \n",
       "2         NaN                  1         20          1        -1     -1  \n",
       "3         NaN                  1         20          1        -1     -1  \n",
       "4         NaN                  1         20          1        -1     -1  "
      ]
     },
     "execution_count": 5,
     "metadata": {},
     "output_type": "execute_result"
    }
   ],
   "source": [
    "# set global args\n",
    "is_sample = False\n",
    "original_data_dir = 'data/origin'\n",
    "prep_data_dir = 'data/prep'\n",
    "\n",
    "df_train = read_new_data(file_name='ccf_offline_stage1_train.csv')\n",
    "df_train.head()"
   ]
  },
  {
   "cell_type": "code",
   "execution_count": 6,
   "metadata": {
    "ExecuteTime": {
     "end_time": "2021-09-05T05:49:25.778906Z",
     "start_time": "2021-09-05T05:49:24.422898Z"
    }
   },
   "outputs": [
    {
     "data": {
      "text/html": [
       "<div>\n",
       "<style scoped>\n",
       "    .dataframe tbody tr th:only-of-type {\n",
       "        vertical-align: middle;\n",
       "    }\n",
       "\n",
       "    .dataframe tbody tr th {\n",
       "        vertical-align: top;\n",
       "    }\n",
       "\n",
       "    .dataframe thead th {\n",
       "        text-align: right;\n",
       "    }\n",
       "</style>\n",
       "<table border=\"1\" class=\"dataframe\">\n",
       "  <thead>\n",
       "    <tr style=\"text-align: right;\">\n",
       "      <th></th>\n",
       "      <th>user_id</th>\n",
       "      <th>merchant_id</th>\n",
       "      <th>coupon_id</th>\n",
       "      <th>discount_rate</th>\n",
       "      <th>distance</th>\n",
       "      <th>date_received</th>\n",
       "      <th>date_used</th>\n",
       "      <th>is_full_reduction</th>\n",
       "      <th>full_cond</th>\n",
       "      <th>full_save</th>\n",
       "      <th>days_gap</th>\n",
       "      <th>label</th>\n",
       "    </tr>\n",
       "  </thead>\n",
       "  <tbody>\n",
       "    <tr>\n",
       "      <th>count</th>\n",
       "      <td>1.754884e+06</td>\n",
       "      <td>1.754884e+06</td>\n",
       "      <td>1.053282e+06</td>\n",
       "      <td>1.053282e+06</td>\n",
       "      <td>1.754884e+06</td>\n",
       "      <td>1.053282e+06</td>\n",
       "      <td>7.769840e+05</td>\n",
       "      <td>1.754884e+06</td>\n",
       "      <td>1.754884e+06</td>\n",
       "      <td>1.754884e+06</td>\n",
       "      <td>1.754884e+06</td>\n",
       "      <td>1.754884e+06</td>\n",
       "    </tr>\n",
       "    <tr>\n",
       "      <th>mean</th>\n",
       "      <td>3.689255e+06</td>\n",
       "      <td>4.038808e+03</td>\n",
       "      <td>6.815398e+03</td>\n",
       "      <td>8.443335e-01</td>\n",
       "      <td>2.158577e+00</td>\n",
       "      <td>2.016032e+07</td>\n",
       "      <td>2.016040e+07</td>\n",
       "      <td>5.812407e-01</td>\n",
       "      <td>4.665974e+01</td>\n",
       "      <td>5.807668e+00</td>\n",
       "      <td>-6.212582e-01</td>\n",
       "      <td>-5.268109e-01</td>\n",
       "    </tr>\n",
       "    <tr>\n",
       "      <th>std</th>\n",
       "      <td>2.123428e+06</td>\n",
       "      <td>2.435963e+03</td>\n",
       "      <td>4.174276e+03</td>\n",
       "      <td>9.036359e-02</td>\n",
       "      <td>3.470772e+00</td>\n",
       "      <td>1.771416e+02</td>\n",
       "      <td>1.621500e+02</td>\n",
       "      <td>4.933559e-01</td>\n",
       "      <td>6.830349e+01</td>\n",
       "      <td>9.037305e+00</td>\n",
       "      <td>2.414021e+00</td>\n",
       "      <td>5.680412e-01</td>\n",
       "    </tr>\n",
       "    <tr>\n",
       "      <th>min</th>\n",
       "      <td>4.000000e+00</td>\n",
       "      <td>1.000000e+00</td>\n",
       "      <td>1.000000e+00</td>\n",
       "      <td>2.000000e-01</td>\n",
       "      <td>-1.000000e+00</td>\n",
       "      <td>2.016010e+07</td>\n",
       "      <td>2.016010e+07</td>\n",
       "      <td>0.000000e+00</td>\n",
       "      <td>-1.000000e+00</td>\n",
       "      <td>-1.000000e+00</td>\n",
       "      <td>-1.000000e+00</td>\n",
       "      <td>-1.000000e+00</td>\n",
       "    </tr>\n",
       "    <tr>\n",
       "      <th>25%</th>\n",
       "      <td>1.845052e+06</td>\n",
       "      <td>1.983000e+03</td>\n",
       "      <td>2.840000e+03</td>\n",
       "      <td>8.333333e-01</td>\n",
       "      <td>0.000000e+00</td>\n",
       "      <td>2.016013e+07</td>\n",
       "      <td>2.016031e+07</td>\n",
       "      <td>0.000000e+00</td>\n",
       "      <td>-1.000000e+00</td>\n",
       "      <td>-1.000000e+00</td>\n",
       "      <td>-1.000000e+00</td>\n",
       "      <td>-1.000000e+00</td>\n",
       "    </tr>\n",
       "    <tr>\n",
       "      <th>50%</th>\n",
       "      <td>3.694446e+06</td>\n",
       "      <td>3.532000e+03</td>\n",
       "      <td>7.430000e+03</td>\n",
       "      <td>8.500000e-01</td>\n",
       "      <td>0.000000e+00</td>\n",
       "      <td>2.016032e+07</td>\n",
       "      <td>2.016042e+07</td>\n",
       "      <td>1.000000e+00</td>\n",
       "      <td>2.000000e+01</td>\n",
       "      <td>5.000000e+00</td>\n",
       "      <td>-1.000000e+00</td>\n",
       "      <td>-1.000000e+00</td>\n",
       "    </tr>\n",
       "    <tr>\n",
       "      <th>75%</th>\n",
       "      <td>5.528759e+06</td>\n",
       "      <td>6.329000e+03</td>\n",
       "      <td>1.032300e+04</td>\n",
       "      <td>9.000000e-01</td>\n",
       "      <td>3.000000e+00</td>\n",
       "      <td>2.016051e+07</td>\n",
       "      <td>2.016052e+07</td>\n",
       "      <td>1.000000e+00</td>\n",
       "      <td>1.000000e+02</td>\n",
       "      <td>1.000000e+01</td>\n",
       "      <td>-1.000000e+00</td>\n",
       "      <td>0.000000e+00</td>\n",
       "    </tr>\n",
       "    <tr>\n",
       "      <th>max</th>\n",
       "      <td>7.361032e+06</td>\n",
       "      <td>8.856000e+03</td>\n",
       "      <td>1.404500e+04</td>\n",
       "      <td>9.900000e-01</td>\n",
       "      <td>1.000000e+01</td>\n",
       "      <td>2.016062e+07</td>\n",
       "      <td>2.016063e+07</td>\n",
       "      <td>1.000000e+00</td>\n",
       "      <td>3.000000e+02</td>\n",
       "      <td>1.000000e+02</td>\n",
       "      <td>9.600000e+01</td>\n",
       "      <td>1.000000e+00</td>\n",
       "    </tr>\n",
       "  </tbody>\n",
       "</table>\n",
       "</div>"
      ],
      "text/plain": [
       "            user_id   merchant_id     coupon_id  discount_rate      distance  \\\n",
       "count  1.754884e+06  1.754884e+06  1.053282e+06   1.053282e+06  1.754884e+06   \n",
       "mean   3.689255e+06  4.038808e+03  6.815398e+03   8.443335e-01  2.158577e+00   \n",
       "std    2.123428e+06  2.435963e+03  4.174276e+03   9.036359e-02  3.470772e+00   \n",
       "min    4.000000e+00  1.000000e+00  1.000000e+00   2.000000e-01 -1.000000e+00   \n",
       "25%    1.845052e+06  1.983000e+03  2.840000e+03   8.333333e-01  0.000000e+00   \n",
       "50%    3.694446e+06  3.532000e+03  7.430000e+03   8.500000e-01  0.000000e+00   \n",
       "75%    5.528759e+06  6.329000e+03  1.032300e+04   9.000000e-01  3.000000e+00   \n",
       "max    7.361032e+06  8.856000e+03  1.404500e+04   9.900000e-01  1.000000e+01   \n",
       "\n",
       "       date_received     date_used  is_full_reduction     full_cond  \\\n",
       "count   1.053282e+06  7.769840e+05       1.754884e+06  1.754884e+06   \n",
       "mean    2.016032e+07  2.016040e+07       5.812407e-01  4.665974e+01   \n",
       "std     1.771416e+02  1.621500e+02       4.933559e-01  6.830349e+01   \n",
       "min     2.016010e+07  2.016010e+07       0.000000e+00 -1.000000e+00   \n",
       "25%     2.016013e+07  2.016031e+07       0.000000e+00 -1.000000e+00   \n",
       "50%     2.016032e+07  2.016042e+07       1.000000e+00  2.000000e+01   \n",
       "75%     2.016051e+07  2.016052e+07       1.000000e+00  1.000000e+02   \n",
       "max     2.016062e+07  2.016063e+07       1.000000e+00  3.000000e+02   \n",
       "\n",
       "          full_save      days_gap         label  \n",
       "count  1.754884e+06  1.754884e+06  1.754884e+06  \n",
       "mean   5.807668e+00 -6.212582e-01 -5.268109e-01  \n",
       "std    9.037305e+00  2.414021e+00  5.680412e-01  \n",
       "min   -1.000000e+00 -1.000000e+00 -1.000000e+00  \n",
       "25%   -1.000000e+00 -1.000000e+00 -1.000000e+00  \n",
       "50%    5.000000e+00 -1.000000e+00 -1.000000e+00  \n",
       "75%    1.000000e+01 -1.000000e+00  0.000000e+00  \n",
       "max    1.000000e+02  9.600000e+01  1.000000e+00  "
      ]
     },
     "execution_count": 6,
     "metadata": {},
     "output_type": "execute_result"
    }
   ],
   "source": [
    "df_train.describe()"
   ]
  },
  {
   "cell_type": "code",
   "execution_count": 9,
   "metadata": {
    "ExecuteTime": {
     "end_time": "2021-09-05T06:02:21.549007Z",
     "start_time": "2021-09-05T06:02:20.865866Z"
    }
   },
   "outputs": [
    {
     "data": {
      "text/plain": [
       "<matplotlib.axes._subplots.AxesSubplot at 0x11145bac8>"
      ]
     },
     "execution_count": 9,
     "metadata": {},
     "output_type": "execute_result"
    },
    {
     "data": {
      "image/png": "[encoded data removed]",
      "text/plain": [
       "<Figure size 288x432 with 1 Axes>"
      ]
     },
     "metadata": {
      "needs_background": "light"
     },
     "output_type": "display_data"
    }
   ],
   "source": [
    "fig = plt.figure(figsize=(4, 6))\n",
    "sns.boxplot(df_train[(df_train.label>=0) & (df_train.distance>=0)]['distance'],\n",
    "           orient='v',\n",
    "           width=0.5)"
   ]
  },
  {
   "cell_type": "code",
   "execution_count": null,
   "metadata": {},
   "outputs": [],
   "source": []
  }
 ],
 "metadata": {
  "kernelspec": {
   "display_name": "Python 3",
   "language": "python",
   "name": "python3"
  },
  "language_info": {
   "codemirror_mode": {
    "name": "ipython",
    "version": 3
   },
   "file_extension": ".py",
   "mimetype": "text/x-python",
   "name": "python",
   "nbconvert_exporter": "python",
   "pygments_lexer": "ipython3",
   "version": "3.6.2"
  },
  "toc": {
   "base_numbering": 1,
   "nav_menu": {},
   "number_sections": true,
   "sideBar": true,
   "skip_h1_title": false,
   "title_cell": "Table of Contents",
   "title_sidebar": "Contents",
   "toc_cell": false,
   "toc_position": {
    "height": "calc(100% - 180px)",
    "left": "10px",
    "top": "150px",
    "width": "184.390625px"
   },
   "toc_section_display": true,
   "toc_window_display": true
  }
 },
 "nbformat": 4,
 "nbformat_minor": 2
}
